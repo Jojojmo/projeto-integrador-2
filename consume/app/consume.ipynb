{
 "cells": [
  {
   "cell_type": "code",
   "execution_count": 1,
   "metadata": {},
   "outputs": [
    {
     "ename": "UndefinedTable",
     "evalue": "ERRO:  relação \"doac2012\" não existe\nLINE 1: SELECT CONTADOR FROM DOAC2012 LIMIT 10\n                             ^\n",
     "output_type": "error",
     "traceback": [
      "\u001b[1;31m---------------------------------------------------------------------------\u001b[0m",
      "\u001b[1;31mUndefinedTable\u001b[0m                            Traceback (most recent call last)",
      "Cell \u001b[1;32mIn[1], line 11\u001b[0m\n\u001b[0;32m      7\u001b[0m \u001b[38;5;28;01mfrom\u001b[39;00m \u001b[38;5;21;01mpackage\u001b[39;00m\u001b[38;5;21;01m.\u001b[39;00m\u001b[38;5;21;01mbd_classes\u001b[39;00m \u001b[38;5;28;01mimport\u001b[39;00m \u001b[38;5;241m*\u001b[39m\n\u001b[0;32m     10\u001b[0m bd \u001b[38;5;241m=\u001b[39m Consume_bd()\n\u001b[1;32m---> 11\u001b[0m \u001b[43mbd\u001b[49m\u001b[38;5;241;43m.\u001b[39;49m\u001b[43mmake_query\u001b[49m\u001b[43m(\u001b[49m\u001b[38;5;124;43m\"\u001b[39;49m\u001b[38;5;124;43mSELECT CONTADOR FROM DOAC2012 LIMIT 10\u001b[39;49m\u001b[38;5;124;43m\"\u001b[39;49m\u001b[43m)\u001b[49m\n",
      "File \u001b[1;32mc:\\Users\\jmoni\\OneDrive\\Área de Trabalho\\Fatec\\4° Sem\\PI II\\scripts\\sus\\consume\\app\\..\\package\\bd_classes.py:71\u001b[0m, in \u001b[0;36mConsume_bd.make_query\u001b[1;34m(self, query)\u001b[0m\n\u001b[0;32m     68\u001b[0m \u001b[38;5;28;01mif\u001b[39;00m \u001b[38;5;129;01mnot\u001b[39;00m \u001b[38;5;28mself\u001b[39m\u001b[38;5;241m.\u001b[39mstart():\n\u001b[0;32m     69\u001b[0m     \u001b[38;5;28;01mreturn\u001b[39;00m \u001b[38;5;28;01mNone\u001b[39;00m\n\u001b[1;32m---> 71\u001b[0m \u001b[38;5;28;43mself\u001b[39;49m\u001b[38;5;241;43m.\u001b[39;49m\u001b[43m__cur\u001b[49m\u001b[38;5;241;43m.\u001b[39;49m\u001b[43mexecute\u001b[49m\u001b[43m(\u001b[49m\u001b[43mquery\u001b[49m\u001b[43m)\u001b[49m\n\u001b[0;32m     72\u001b[0m \u001b[38;5;28mself\u001b[39m\u001b[38;5;241m.\u001b[39m__conn\u001b[38;5;241m.\u001b[39mcommit()\n\u001b[0;32m     73\u001b[0m \u001b[38;5;28;01mif\u001b[39;00m \u001b[38;5;28mself\u001b[39m\u001b[38;5;241m.\u001b[39m__cur\u001b[38;5;241m.\u001b[39mdescription \u001b[38;5;129;01mis\u001b[39;00m \u001b[38;5;129;01mnot\u001b[39;00m \u001b[38;5;28;01mNone\u001b[39;00m:\n",
      "\u001b[1;31mUndefinedTable\u001b[0m: ERRO:  relação \"doac2012\" não existe\nLINE 1: SELECT CONTADOR FROM DOAC2012 LIMIT 10\n                             ^\n"
     ]
    }
   ],
   "source": [
    "import os\n",
    "import sys\n",
    "\n",
    "notebook_dir = os.path.dirname(os.path.abspath('__file__'))\n",
    "sys.path.append(os.path.join(notebook_dir, '..'))\n",
    "\n",
    "from package.bd_classes import *\n",
    "\n",
    "\n",
    "bd = Consume_bd()\n",
    "bd.make_query(\"SELECT CONTADOR FROM DOAC2012 LIMIT 10\")"
   ]
  },
  {
   "cell_type": "code",
   "execution_count": 17,
   "metadata": {},
   "outputs": [
    {
     "data": {
      "text/plain": [
       "[(6611,)]"
      ]
     },
     "execution_count": 17,
     "metadata": {},
     "output_type": "execute_result"
    }
   ],
   "source": [
    "bd.make_query(\"SELECT COUNT(*) FROM OBITOS\")"
   ]
  },
  {
   "cell_type": "code",
   "execution_count": 2,
   "metadata": {},
   "outputs": [
    {
     "name": "stdout",
     "output_type": "stream",
     "text": [
      "Não foi possível inserir a linha\n",
      "ERRO:  duplicar valor da chave viola a restrição de unicidade \"racacor_pkey\"\n",
      "DETAIL:  Chave (id)=(1) já existe.\n",
      "\n",
      "Não foi possível inserir a linha\n",
      "ERRO:  duplicar valor da chave viola a restrição de unicidade \"racacor_pkey\"\n",
      "DETAIL:  Chave (id)=(2) já existe.\n",
      "\n",
      "Não foi possível inserir a linha\n",
      "ERRO:  duplicar valor da chave viola a restrição de unicidade \"racacor_pkey\"\n",
      "DETAIL:  Chave (id)=(3) já existe.\n",
      "\n",
      "Não foi possível inserir a linha\n",
      "ERRO:  duplicar valor da chave viola a restrição de unicidade \"racacor_pkey\"\n",
      "DETAIL:  Chave (id)=(4) já existe.\n",
      "\n",
      "Não foi possível inserir a linha\n",
      "ERRO:  duplicar valor da chave viola a restrição de unicidade \"racacor_pkey\"\n",
      "DETAIL:  Chave (id)=(5) já existe.\n",
      "\n",
      "Não foi possível inserir a linha\n",
      "ERRO:  duplicar valor da chave viola a restrição de unicidade \"racacor_pkey\"\n",
      "DETAIL:  Chave (id)=(NULL) já existe.\n",
      "\n"
     ]
    }
   ],
   "source": [
    "racacor_dict = {\n",
    "    1: 'Branca',\n",
    "    2: 'Preta',\n",
    "    3: 'Amarela',\n",
    "    4: 'Parda',\n",
    "    5: 'Indígena',\n",
    "    'NULL': 'Não especificado'\n",
    "}\n",
    "\n",
    "bis = New_table_SUS(\"RACACOR\",racacor_dict)"
   ]
  },
  {
   "cell_type": "code",
   "execution_count": 4,
   "metadata": {},
   "outputs": [
    {
     "name": "stdout",
     "output_type": "stream",
     "text": [
      "Não foi possível inserir a linha\n",
      "ERRO:  duplicar valor da chave viola a restrição de unicidade \"estciv_pkey\"\n",
      "DETAIL:  Chave (id)=(1) já existe.\n",
      "\n",
      "Não foi possível inserir a linha\n",
      "ERRO:  duplicar valor da chave viola a restrição de unicidade \"estciv_pkey\"\n",
      "DETAIL:  Chave (id)=(2) já existe.\n",
      "\n",
      "Não foi possível inserir a linha\n",
      "ERRO:  duplicar valor da chave viola a restrição de unicidade \"estciv_pkey\"\n",
      "DETAIL:  Chave (id)=(3) já existe.\n",
      "\n",
      "Não foi possível inserir a linha\n",
      "ERRO:  duplicar valor da chave viola a restrição de unicidade \"estciv_pkey\"\n",
      "DETAIL:  Chave (id)=(4) já existe.\n",
      "\n",
      "Não foi possível inserir a linha\n",
      "ERRO:  duplicar valor da chave viola a restrição de unicidade \"estciv_pkey\"\n",
      "DETAIL:  Chave (id)=(5) já existe.\n",
      "\n",
      "Não foi possível inserir a linha\n",
      "ERRO:  duplicar valor da chave viola a restrição de unicidade \"estciv_pkey\"\n",
      "DETAIL:  Chave (id)=(9) já existe.\n",
      "\n",
      "Não foi possível inserir a linha\n",
      "ERRO:  duplicar valor da chave viola a restrição de unicidade \"estciv_pkey\"\n",
      "DETAIL:  Chave (id)=(NULL) já existe.\n",
      "\n"
     ]
    }
   ],
   "source": [
    "estciv_dict = {\n",
    "    1: 'Solteiro',\n",
    "    2: 'Casado',\n",
    "    3: 'Viúvo',\n",
    "    4: 'Separado judicialmente',\n",
    "    5: 'União Estável',\n",
    "    9: 'Ignorado',\n",
    "    'NULL': 'Não identificado'\n",
    "}\n",
    "\n",
    "bos = New_table_SUS(\"ESTCIV\",estciv_dict)"
   ]
  },
  {
   "cell_type": "code",
   "execution_count": 3,
   "metadata": {},
   "outputs": [
    {
     "data": {
      "text/plain": [
       "[('1', 'Solteiro'),\n",
       " ('2', 'Casado'),\n",
       " ('3', 'Viúvo'),\n",
       " ('4', 'Separado judicialmente'),\n",
       " ('5', 'União Estável'),\n",
       " ('9', 'Ignorado'),\n",
       " ('NULL', 'Não identificado')]"
      ]
     },
     "execution_count": 3,
     "metadata": {},
     "output_type": "execute_result"
    }
   ],
   "source": [
    "view = Consume_bd()\n",
    "\n",
    "view.make_query(\"SELECT * FROM ESTCIV\")"
   ]
  },
  {
   "cell_type": "code",
   "execution_count": 5,
   "metadata": {},
   "outputs": [
    {
     "name": "stdout",
     "output_type": "stream",
     "text": [
      "-1\n"
     ]
    }
   ],
   "source": [
    "obj = bos.make_constraint(\"DOAC2012\")\n",
    "\n",
    "print(obj)"
   ]
  },
  {
   "cell_type": "markdown",
   "metadata": {},
   "source": [
    "#### Anotações"
   ]
  },
  {
   "cell_type": "code",
   "execution_count": null,
   "metadata": {},
   "outputs": [],
   "source": [
    "bb = Consume_bd()\n",
    "\n",
    "bb.make_query(\"\"\"\n",
    "                        CREATE TABLE IF NOT EXISTS RACACOR (\n",
    "                        ID VARCHAR PRIMARY KEY,\n",
    "                        descricao VARCHAR\n",
    "                        )\"\"\")\n",
    "\n",
    "bb._Consume_bd__cur.statusmessage"
   ]
  },
  {
   "cell_type": "code",
   "execution_count": 5,
   "metadata": {},
   "outputs": [
    {
     "name": "stdout",
     "output_type": "stream",
     "text": [
      "Exportação para CSV concluída com sucesso!\n"
     ]
    }
   ],
   "source": [
    "import psycopg2\n",
    "import csv\n",
    "import os\n",
    "import json\n",
    "\n",
    "root_directory = os.path.dirname(os.path.dirname(os.path.abspath('__file__')))\n",
    "settings_path = os.path.join(root_directory, 'settings_bd.json')\n",
    "\n",
    "with open(settings_path, 'r') as setting:\n",
    "    kwargs = json.load(setting)\n",
    "# Conectar ao banco de dados\n",
    "conn = psycopg2.connect(\n",
    "**kwargs\n",
    ")\n",
    "\n",
    "# Abrir um cursor para executar comandos SQL\n",
    "cur = conn.cursor()\n",
    "\n",
    "# Nome da tabela que você deseja exportar\n",
    "tabela = \"OBITOS\"\n",
    "\n",
    "# Nome do arquivo CSV de saída\n",
    "arquivo_csv = \"saida.csv\"\n",
    "\n",
    "# Consulta SQL para selecionar todos os dados da tabela\n",
    "consulta_sql = f\"SELECT * FROM {tabela};\"\n",
    "\n",
    "# Executar a consulta SQL\n",
    "cur.execute(consulta_sql)\n",
    "\n",
    "# Obter todas as linhas da consulta\n",
    "linhas = cur.fetchall()\n",
    "\n",
    "# Obter os nomes das colunas\n",
    "nomes_colunas = [coluna.name for coluna in cur.description]\n",
    "\n",
    "# Escrever os resultados no arquivo CSV\n",
    "with open(arquivo_csv, 'w', newline='') as arquivo:\n",
    "    escritor_csv = csv.writer(arquivo)\n",
    "    \n",
    "    # Escrever os nomes das colunas como a primeira linha do arquivo CSV\n",
    "    escritor_csv.writerow(nomes_colunas)\n",
    "    \n",
    "    # Escrever os dados das linhas\n",
    "    for linha in linhas:\n",
    "        escritor_csv.writerow(linha)\n",
    "\n",
    "# Fechar o cursor e a conexão\n",
    "cur.close()\n",
    "conn.close()\n",
    "\n",
    "print(\"Exportação para CSV concluída com sucesso!\")\n"
   ]
  }
 ],
 "metadata": {
  "kernelspec": {
   "display_name": ".env",
   "language": "python",
   "name": "python3"
  },
  "language_info": {
   "codemirror_mode": {
    "name": "ipython",
    "version": 3
   },
   "file_extension": ".py",
   "mimetype": "text/x-python",
   "name": "python",
   "nbconvert_exporter": "python",
   "pygments_lexer": "ipython3",
   "version": "3.12.2"
  },
  "orig_nbformat": 4
 },
 "nbformat": 4,
 "nbformat_minor": 2
}
